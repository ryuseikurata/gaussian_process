{
 "cells": [
  {
   "cell_type": "code",
   "execution_count": null,
   "metadata": {},
   "outputs": [],
   "source": [
    "using Distributions\n",
    "using Plots\n",
    "\n",
    "include(\"linear_kernel.jl\")\n",
    "include(\"gaussian_process.jl\")\n",
    "\n",
    "\n",
    "# ノイズ項を追加する\n",
    "gp = GaussianProcess(LinearKernel())\n",
    "xs = collect(-4:0.01:4)\n",
    "Plots.plot(xs, rand(dist(gp, xs), 5),\n",
    "    label = \"\", xlabel = \"x\", ylabel = \"f\",\n",
    "    linewidth = 2,\n",
    "    title = \"\")"
   ]
  }
 ],
 "metadata": {
  "language_info": {
   "name": "julia"
  },
  "orig_nbformat": 4
 },
 "nbformat": 4,
 "nbformat_minor": 2
}